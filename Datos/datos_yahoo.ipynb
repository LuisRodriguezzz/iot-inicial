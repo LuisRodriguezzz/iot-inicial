{
 "cells": [
  {
   "cell_type": "code",
   "execution_count": 3,
   "metadata": {},
   "outputs": [
    {
     "name": "stdout",
     "output_type": "stream",
     "text": [
      "The P/E ratio of AAPL is 34.733635\n",
      "The P/E ratio of MSFT is 36.918575\n",
      "The P/E ratio of GOOGL is 23.470589\n",
      "The P/E ratio of AMZN is 45.619053\n",
      "The P/E ratio of FB is N/A\n",
      "The P/E ratio of TSLA is 67.11268\n",
      "The P/E ratio of BRK-B is 14.472664\n",
      "The P/E ratio of TSM is 30.647888\n",
      "The P/E ratio of V is 30.489292\n",
      "The P/E ratio of JNJ is 24.797585\n"
     ]
    }
   ],
   "source": [
    "import yfinance as yf\n",
    "\n",
    "# Define a function to get the P/E ratio (PER) of a company\n",
    "def get_pe_ratio(ticker):\n",
    "    stock = yf.Ticker(ticker)\n",
    "    pe_ratio = stock.info.get('trailingPE', 'N/A')\n",
    "    return pe_ratio\n",
    "\n",
    "# List of tickers for the 10 largest companies by market cap\n",
    "tickers = [\"AAPL\", \"MSFT\", \"GOOGL\", \"AMZN\", \"FB\", \"TSLA\", \"BRK-B\", \"TSM\", \"V\", \"JNJ\"]\n",
    "\n",
    "# Get the P/E ratio for each company\n",
    "pe_ratios = {ticker: get_pe_ratio(ticker) for ticker in tickers}\n",
    "\n",
    "# Print the P/E ratios\n",
    "for ticker, pe_ratio in pe_ratios.items():\n",
    "    print(f\"The P/E ratio of {ticker} is {pe_ratio}\")"
   ]
  },
  {
   "cell_type": "code",
   "execution_count": 5,
   "metadata": {},
   "outputs": [
    {
     "name": "stdout",
     "output_type": "stream",
     "text": [
      "The D/E ratio of AAPL is 151.862\n",
      "The D/E ratio of MSFT is 36.447\n",
      "The D/E ratio of GOOGL is 9.549\n",
      "The D/E ratio of AMZN is 66.756\n",
      "The D/E ratio of FB is N/A\n",
      "The D/E ratio of TSLA is 18.606\n",
      "The D/E ratio of BRK-B is 20.335\n",
      "The D/E ratio of TSM is 26.917\n",
      "The D/E ratio of V is 51.856\n",
      "The D/E ratio of JNJ is 57.999\n",
      "The D/E ratio of WMT is 69.566\n",
      "The D/E ratio of JPM is N/A\n",
      "The D/E ratio of NVDA is 17.221\n",
      "The D/E ratio of UNH is 75.678\n",
      "The D/E ratio of HD is 1479.819\n",
      "The D/E ratio of PG is 66.706\n",
      "The D/E ratio of MA is 208.567\n",
      "The D/E ratio of DIS is 45.188\n",
      "The D/E ratio of PYPL is 62.836\n",
      "The D/E ratio of BAC is N/A\n",
      "The D/E ratio of ADBE is 41.788\n",
      "The D/E ratio of NFLX is 74.727\n",
      "The D/E ratio of CMCSA is 116.903\n",
      "The D/E ratio of XOM is 15.632\n",
      "The D/E ratio of KO is 164.398\n",
      "The D/E ratio of PFE is 79.407\n",
      "The D/E ratio of PEP is 229.454\n",
      "The D/E ratio of CSCO is 70.931\n",
      "The D/E ratio of ABT is 37.525\n",
      "The D/E ratio of NKE is 83.042\n"
     ]
    }
   ],
   "source": [
    "import yfinance as yf\n",
    "\n",
    "# Define a function to get the Debt-to-Equity ratio (D/E Ratio) of a company\n",
    "def get_de_ratio(ticker):\n",
    "    stock = yf.Ticker(ticker)\n",
    "    de_ratio = stock.info.get('debtToEquity', 'N/A')\n",
    "    return de_ratio\n",
    "\n",
    "# List of tickers for the 30 largest companies by market cap\n",
    "tickers_30 = [\"AAPL\", \"MSFT\", \"GOOGL\", \"AMZN\", \"FB\", \"TSLA\", \"BRK-B\", \"TSM\", \"V\", \"JNJ\",\n",
    "              \"WMT\", \"JPM\", \"NVDA\", \"UNH\", \"HD\", \"PG\", \"MA\", \"DIS\", \"PYPL\", \"BAC\",\n",
    "              \"ADBE\", \"NFLX\", \"CMCSA\", \"XOM\", \"KO\", \"PFE\", \"PEP\", \"CSCO\", \"ABT\", \"NKE\"]\n",
    "\n",
    "# Get the D/E ratio for each company\n",
    "de_ratios = {ticker: get_de_ratio(ticker) for ticker in tickers_30}\n",
    "\n",
    "# Print the D/E ratios\n",
    "for ticker, de_ratio in de_ratios.items():\n",
    "    print(f\"The D/E ratio of {ticker} is {de_ratio}\")"
   ]
  },
  {
   "cell_type": "code",
   "execution_count": null,
   "metadata": {},
   "outputs": [],
   "source": []
  }
 ],
 "metadata": {
  "kernelspec": {
   "display_name": "Python 3",
   "language": "python",
   "name": "python3"
  },
  "language_info": {
   "codemirror_mode": {
    "name": "ipython",
    "version": 3
   },
   "file_extension": ".py",
   "mimetype": "text/x-python",
   "name": "python",
   "nbconvert_exporter": "python",
   "pygments_lexer": "ipython3",
   "version": "3.11.5"
  }
 },
 "nbformat": 4,
 "nbformat_minor": 2
}
