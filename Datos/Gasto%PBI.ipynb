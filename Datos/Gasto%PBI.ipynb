{
 "cells": [
  {
   "cell_type": "code",
   "execution_count": 1,
   "metadata": {},
   "outputs": [
    {
     "ename": "KeyboardInterrupt",
     "evalue": "",
     "output_type": "error",
     "traceback": [
      "\u001b[1;31m---------------------------------------------------------------------------\u001b[0m",
      "\u001b[1;31mKeyboardInterrupt\u001b[0m                         Traceback (most recent call last)",
      "Cell \u001b[1;32mIn[1], line 50\u001b[0m\n\u001b[0;32m     45\u001b[0m         time\u001b[38;5;241m.\u001b[39msleep(\u001b[38;5;241m15\u001b[39m)  \u001b[38;5;66;03m# Esperar 10 segundos antes de la siguiente iteración\u001b[39;00m\n\u001b[0;32m     49\u001b[0m \u001b[38;5;28;01mif\u001b[39;00m \u001b[38;5;18m__name__\u001b[39m \u001b[38;5;241m==\u001b[39m \u001b[38;5;124m\"\u001b[39m\u001b[38;5;124m__main__\u001b[39m\u001b[38;5;124m\"\u001b[39m:\n\u001b[1;32m---> 50\u001b[0m     \u001b[43mmain\u001b[49m\u001b[43m(\u001b[49m\u001b[43m)\u001b[49m\n",
      "Cell \u001b[1;32mIn[1], line 45\u001b[0m, in \u001b[0;36mmain\u001b[1;34m()\u001b[0m\n\u001b[0;32m     43\u001b[0m gasto_acumulado \u001b[38;5;241m=\u001b[39m calcular_gasto_acumulado(gasto)\n\u001b[0;32m     44\u001b[0m verificar_y_notificar(gasto_acumulado)\n\u001b[1;32m---> 45\u001b[0m \u001b[43mtime\u001b[49m\u001b[38;5;241;43m.\u001b[39;49m\u001b[43msleep\u001b[49m\u001b[43m(\u001b[49m\u001b[38;5;241;43m15\u001b[39;49m\u001b[43m)\u001b[49m\n",
      "\u001b[1;31mKeyboardInterrupt\u001b[0m: "
     ]
    }
   ],
   "source": [
    "from datetime import datetime\n",
    "import time\n",
    "from Funcion_Gastos import obtencion_datos\n",
    "import pandas as pd\n",
    "import requests\n",
    "\n",
    "\n",
    "# Definir el PIB del 2023\n",
    "pib_2023 = 27.    # 27.36 billones en notación científica\n",
    "\n",
    "# Función para calcular el gasto acumulado desde enero de 2024\n",
    "def calcular_gasto_acumulado(df_gastos):\n",
    "    fecha_actual = datetime.now()\n",
    "    anio_actual = fecha_actual.year\n",
    "    mes_actual = fecha_actual.month\n",
    "\n",
    "    # Filtrar datos desde enero de 2024 hasta la fecha actual\n",
    "    df_gastos['record_date'] = pd.to_datetime(df_gastos['record_date'])\n",
    "    df_gastos = df_gastos[(df_gastos['record_date'].dt.year == anio_actual) & (df_gastos['record_date'].dt.month <= mes_actual)]\n",
    "    gasto_acumulado = df_gastos['current_month_gross_outly_amt'].sum()\n",
    "    return gasto_acumulado\n",
    "\n",
    "# Función para verificar si el gasto está cercano al PIB y enviar notificación\n",
    "def verificar_y_notificar(gasto_acumulado):\n",
    "    porcentaje_umbral = 0.10 # 38% del PIB \n",
    "    if gasto_acumulado >= porcentaje_umbral * pib_2023:\n",
    "        enviar_notificacion(gasto_acumulado,porcentaje_umbral)\n",
    "        #return print(\"el gasto esta superando el {porcentaje_umbral}\")\n",
    "\n",
    "#Función para enviar una notificación (ejemplo con Telegram)\n",
    "def enviar_notificacion(gasto_acumulado,porcentaje_umbral):\n",
    "    token = \"7505196905:AAFrQhr9A3R4aqfDMhuGSzQWM7dVbP7ZXmo\"  # Reemplaza con tu token de Telegram\n",
    "    chat_id = \"1732985833\"  # Reemplaza con tu chat ID de Telegram\n",
    "    mensaje = f\"Alerta: El gasto acumulado de {gasto_acumulado:,.2f} USD está cerca del {porcentaje_umbral}% del PIB de 2023.\"\n",
    "    url = f\"https://api.telegram.org/bot{token}/sendMessage?chat_id={chat_id}&text={mensaje}\"\n",
    "    requests.get(url)\n",
    "\n",
    "\n",
    "\n",
    "def main():\n",
    "    while True:\n",
    "        gasto = obtencion_datos()\n",
    "        gasto_acumulado = calcular_gasto_acumulado(gasto)\n",
    "        verificar_y_notificar(gasto_acumulado)\n",
    "        time.sleep(15)  # Esperar 10 segundos antes de la siguiente iteración\n",
    "\n",
    "\n",
    "\n",
    "if __name__ == \"__main__\":\n",
    "    main()"
   ]
  }
 ],
 "metadata": {
  "kernelspec": {
   "display_name": "Python 3",
   "language": "python",
   "name": "python3"
  },
  "language_info": {
   "codemirror_mode": {
    "name": "ipython",
    "version": 3
   },
   "file_extension": ".py",
   "mimetype": "text/x-python",
   "name": "python",
   "nbconvert_exporter": "python",
   "pygments_lexer": "ipython3",
   "version": "3.11.5"
  }
 },
 "nbformat": 4,
 "nbformat_minor": 2
}
